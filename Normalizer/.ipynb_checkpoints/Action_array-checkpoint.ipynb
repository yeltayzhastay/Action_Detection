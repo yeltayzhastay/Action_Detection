{
 "cells": [
  {
   "cell_type": "code",
   "execution_count": 2,
   "metadata": {},
   "outputs": [],
   "source": [
    "import numpy as np\n",
    "import pandas as pd\n",
    "from scipy.stats import pearsonr\n",
    "import seaborn as sn\n",
    "import matplotlib.pyplot as plt"
   ]
  },
  {
   "cell_type": "code",
   "execution_count": 5,
   "metadata": {},
   "outputs": [
    {
     "data": {
      "text/html": [
       "<div>\n",
       "<style scoped>\n",
       "    .dataframe tbody tr th:only-of-type {\n",
       "        vertical-align: middle;\n",
       "    }\n",
       "\n",
       "    .dataframe tbody tr th {\n",
       "        vertical-align: top;\n",
       "    }\n",
       "\n",
       "    .dataframe thead th {\n",
       "        text-align: right;\n",
       "    }\n",
       "</style>\n",
       "<table border=\"1\" class=\"dataframe\">\n",
       "  <thead>\n",
       "    <tr style=\"text-align: right;\">\n",
       "      <th></th>\n",
       "      <th>id</th>\n",
       "      <th>Nose_x0</th>\n",
       "      <th>Nose_y0</th>\n",
       "      <th>Neck_x1</th>\n",
       "      <th>Neck_y1</th>\n",
       "      <th>RShoulder_x2</th>\n",
       "      <th>RShoulder_y2</th>\n",
       "      <th>Relbow_x3</th>\n",
       "      <th>RElbow_y3</th>\n",
       "      <th>RWrist_x4</th>\n",
       "      <th>...</th>\n",
       "      <th>REye_x14</th>\n",
       "      <th>REye_y14</th>\n",
       "      <th>LEye_x15</th>\n",
       "      <th>LEye_y15</th>\n",
       "      <th>REar_x16</th>\n",
       "      <th>REar_y16</th>\n",
       "      <th>LEar_x17</th>\n",
       "      <th>LEar_y17</th>\n",
       "      <th>action</th>\n",
       "      <th>video_src</th>\n",
       "    </tr>\n",
       "  </thead>\n",
       "  <tbody>\n",
       "    <tr>\n",
       "      <th>0</th>\n",
       "      <td>1267</td>\n",
       "      <td>162</td>\n",
       "      <td>60</td>\n",
       "      <td>166</td>\n",
       "      <td>67</td>\n",
       "      <td>163</td>\n",
       "      <td>66</td>\n",
       "      <td>162</td>\n",
       "      <td>74</td>\n",
       "      <td>158</td>\n",
       "      <td>...</td>\n",
       "      <td>161</td>\n",
       "      <td>59</td>\n",
       "      <td>163</td>\n",
       "      <td>59</td>\n",
       "      <td>0</td>\n",
       "      <td>0</td>\n",
       "      <td>165</td>\n",
       "      <td>60</td>\n",
       "      <td>walk</td>\n",
       "      <td>C:/Users/User/tf-pose-estimationActionRecognit...</td>\n",
       "    </tr>\n",
       "    <tr>\n",
       "      <th>1</th>\n",
       "      <td>1268</td>\n",
       "      <td>159</td>\n",
       "      <td>61</td>\n",
       "      <td>163</td>\n",
       "      <td>67</td>\n",
       "      <td>162</td>\n",
       "      <td>67</td>\n",
       "      <td>160</td>\n",
       "      <td>74</td>\n",
       "      <td>156</td>\n",
       "      <td>...</td>\n",
       "      <td>159</td>\n",
       "      <td>59</td>\n",
       "      <td>160</td>\n",
       "      <td>59</td>\n",
       "      <td>0</td>\n",
       "      <td>0</td>\n",
       "      <td>163</td>\n",
       "      <td>60</td>\n",
       "      <td>walk</td>\n",
       "      <td>C:/Users/User/tf-pose-estimationActionRecognit...</td>\n",
       "    </tr>\n",
       "    <tr>\n",
       "      <th>2</th>\n",
       "      <td>1269</td>\n",
       "      <td>158</td>\n",
       "      <td>61</td>\n",
       "      <td>163</td>\n",
       "      <td>67</td>\n",
       "      <td>160</td>\n",
       "      <td>67</td>\n",
       "      <td>159</td>\n",
       "      <td>75</td>\n",
       "      <td>153</td>\n",
       "      <td>...</td>\n",
       "      <td>158</td>\n",
       "      <td>59</td>\n",
       "      <td>158</td>\n",
       "      <td>59</td>\n",
       "      <td>0</td>\n",
       "      <td>0</td>\n",
       "      <td>161</td>\n",
       "      <td>60</td>\n",
       "      <td>walk</td>\n",
       "      <td>C:/Users/User/tf-pose-estimationActionRecognit...</td>\n",
       "    </tr>\n",
       "    <tr>\n",
       "      <th>3</th>\n",
       "      <td>1270</td>\n",
       "      <td>156</td>\n",
       "      <td>61</td>\n",
       "      <td>160</td>\n",
       "      <td>67</td>\n",
       "      <td>159</td>\n",
       "      <td>67</td>\n",
       "      <td>157</td>\n",
       "      <td>75</td>\n",
       "      <td>153</td>\n",
       "      <td>...</td>\n",
       "      <td>156</td>\n",
       "      <td>59</td>\n",
       "      <td>157</td>\n",
       "      <td>59</td>\n",
       "      <td>0</td>\n",
       "      <td>0</td>\n",
       "      <td>159</td>\n",
       "      <td>60</td>\n",
       "      <td>walk</td>\n",
       "      <td>C:/Users/User/tf-pose-estimationActionRecognit...</td>\n",
       "    </tr>\n",
       "    <tr>\n",
       "      <th>4</th>\n",
       "      <td>1271</td>\n",
       "      <td>154</td>\n",
       "      <td>60</td>\n",
       "      <td>158</td>\n",
       "      <td>67</td>\n",
       "      <td>157</td>\n",
       "      <td>67</td>\n",
       "      <td>155</td>\n",
       "      <td>75</td>\n",
       "      <td>150</td>\n",
       "      <td>...</td>\n",
       "      <td>154</td>\n",
       "      <td>59</td>\n",
       "      <td>155</td>\n",
       "      <td>59</td>\n",
       "      <td>0</td>\n",
       "      <td>0</td>\n",
       "      <td>158</td>\n",
       "      <td>60</td>\n",
       "      <td>walk</td>\n",
       "      <td>C:/Users/User/tf-pose-estimationActionRecognit...</td>\n",
       "    </tr>\n",
       "    <tr>\n",
       "      <th>...</th>\n",
       "      <td>...</td>\n",
       "      <td>...</td>\n",
       "      <td>...</td>\n",
       "      <td>...</td>\n",
       "      <td>...</td>\n",
       "      <td>...</td>\n",
       "      <td>...</td>\n",
       "      <td>...</td>\n",
       "      <td>...</td>\n",
       "      <td>...</td>\n",
       "      <td>...</td>\n",
       "      <td>...</td>\n",
       "      <td>...</td>\n",
       "      <td>...</td>\n",
       "      <td>...</td>\n",
       "      <td>...</td>\n",
       "      <td>...</td>\n",
       "      <td>...</td>\n",
       "      <td>...</td>\n",
       "      <td>...</td>\n",
       "      <td>...</td>\n",
       "    </tr>\n",
       "    <tr>\n",
       "      <th>1169</th>\n",
       "      <td>2436</td>\n",
       "      <td>31</td>\n",
       "      <td>48</td>\n",
       "      <td>38</td>\n",
       "      <td>52</td>\n",
       "      <td>38</td>\n",
       "      <td>52</td>\n",
       "      <td>0</td>\n",
       "      <td>0</td>\n",
       "      <td>0</td>\n",
       "      <td>...</td>\n",
       "      <td>0</td>\n",
       "      <td>0</td>\n",
       "      <td>32</td>\n",
       "      <td>46</td>\n",
       "      <td>0</td>\n",
       "      <td>0</td>\n",
       "      <td>34</td>\n",
       "      <td>46</td>\n",
       "      <td>jump forward</td>\n",
       "      <td>C:/Users/User/tf-pose-estimationActionRecognit...</td>\n",
       "    </tr>\n",
       "    <tr>\n",
       "      <th>1170</th>\n",
       "      <td>2437</td>\n",
       "      <td>27</td>\n",
       "      <td>49</td>\n",
       "      <td>33</td>\n",
       "      <td>54</td>\n",
       "      <td>36</td>\n",
       "      <td>54</td>\n",
       "      <td>0</td>\n",
       "      <td>0</td>\n",
       "      <td>0</td>\n",
       "      <td>...</td>\n",
       "      <td>0</td>\n",
       "      <td>0</td>\n",
       "      <td>28</td>\n",
       "      <td>48</td>\n",
       "      <td>0</td>\n",
       "      <td>0</td>\n",
       "      <td>30</td>\n",
       "      <td>48</td>\n",
       "      <td>jump forward</td>\n",
       "      <td>C:/Users/User/tf-pose-estimationActionRecognit...</td>\n",
       "    </tr>\n",
       "    <tr>\n",
       "      <th>1171</th>\n",
       "      <td>2438</td>\n",
       "      <td>23</td>\n",
       "      <td>52</td>\n",
       "      <td>30</td>\n",
       "      <td>56</td>\n",
       "      <td>32</td>\n",
       "      <td>56</td>\n",
       "      <td>0</td>\n",
       "      <td>0</td>\n",
       "      <td>0</td>\n",
       "      <td>...</td>\n",
       "      <td>0</td>\n",
       "      <td>0</td>\n",
       "      <td>24</td>\n",
       "      <td>50</td>\n",
       "      <td>0</td>\n",
       "      <td>0</td>\n",
       "      <td>27</td>\n",
       "      <td>50</td>\n",
       "      <td>jump forward</td>\n",
       "      <td>C:/Users/User/tf-pose-estimationActionRecognit...</td>\n",
       "    </tr>\n",
       "    <tr>\n",
       "      <th>1172</th>\n",
       "      <td>2439</td>\n",
       "      <td>20</td>\n",
       "      <td>52</td>\n",
       "      <td>27</td>\n",
       "      <td>58</td>\n",
       "      <td>27</td>\n",
       "      <td>57</td>\n",
       "      <td>23</td>\n",
       "      <td>69</td>\n",
       "      <td>0</td>\n",
       "      <td>...</td>\n",
       "      <td>0</td>\n",
       "      <td>0</td>\n",
       "      <td>21</td>\n",
       "      <td>51</td>\n",
       "      <td>0</td>\n",
       "      <td>0</td>\n",
       "      <td>24</td>\n",
       "      <td>52</td>\n",
       "      <td>jump forward</td>\n",
       "      <td>C:/Users/User/tf-pose-estimationActionRecognit...</td>\n",
       "    </tr>\n",
       "    <tr>\n",
       "      <th>1173</th>\n",
       "      <td>2440</td>\n",
       "      <td>18</td>\n",
       "      <td>54</td>\n",
       "      <td>24</td>\n",
       "      <td>59</td>\n",
       "      <td>26</td>\n",
       "      <td>59</td>\n",
       "      <td>28</td>\n",
       "      <td>71</td>\n",
       "      <td>31</td>\n",
       "      <td>...</td>\n",
       "      <td>18</td>\n",
       "      <td>52</td>\n",
       "      <td>18</td>\n",
       "      <td>52</td>\n",
       "      <td>0</td>\n",
       "      <td>0</td>\n",
       "      <td>22</td>\n",
       "      <td>53</td>\n",
       "      <td>jump forward</td>\n",
       "      <td>C:/Users/User/tf-pose-estimationActionRecognit...</td>\n",
       "    </tr>\n",
       "  </tbody>\n",
       "</table>\n",
       "<p>1174 rows × 39 columns</p>\n",
       "</div>"
      ],
      "text/plain": [
       "        id  Nose_x0  Nose_y0  Neck_x1  Neck_y1  RShoulder_x2  RShoulder_y2  \\\n",
       "0     1267      162       60      166       67           163            66   \n",
       "1     1268      159       61      163       67           162            67   \n",
       "2     1269      158       61      163       67           160            67   \n",
       "3     1270      156       61      160       67           159            67   \n",
       "4     1271      154       60      158       67           157            67   \n",
       "...    ...      ...      ...      ...      ...           ...           ...   \n",
       "1169  2436       31       48       38       52            38            52   \n",
       "1170  2437       27       49       33       54            36            54   \n",
       "1171  2438       23       52       30       56            32            56   \n",
       "1172  2439       20       52       27       58            27            57   \n",
       "1173  2440       18       54       24       59            26            59   \n",
       "\n",
       "      Relbow_x3  RElbow_y3  RWrist_x4  ...  REye_x14  REye_y14  LEye_x15  \\\n",
       "0           162         74        158  ...       161        59       163   \n",
       "1           160         74        156  ...       159        59       160   \n",
       "2           159         75        153  ...       158        59       158   \n",
       "3           157         75        153  ...       156        59       157   \n",
       "4           155         75        150  ...       154        59       155   \n",
       "...         ...        ...        ...  ...       ...       ...       ...   \n",
       "1169          0          0          0  ...         0         0        32   \n",
       "1170          0          0          0  ...         0         0        28   \n",
       "1171          0          0          0  ...         0         0        24   \n",
       "1172         23         69          0  ...         0         0        21   \n",
       "1173         28         71         31  ...        18        52        18   \n",
       "\n",
       "      LEye_y15  REar_x16  REar_y16  LEar_x17  LEar_y17        action  \\\n",
       "0           59         0         0       165        60          walk   \n",
       "1           59         0         0       163        60          walk   \n",
       "2           59         0         0       161        60          walk   \n",
       "3           59         0         0       159        60          walk   \n",
       "4           59         0         0       158        60          walk   \n",
       "...        ...       ...       ...       ...       ...           ...   \n",
       "1169        46         0         0        34        46  jump forward   \n",
       "1170        48         0         0        30        48  jump forward   \n",
       "1171        50         0         0        27        50  jump forward   \n",
       "1172        51         0         0        24        52  jump forward   \n",
       "1173        52         0         0        22        53  jump forward   \n",
       "\n",
       "                                              video_src  \n",
       "0     C:/Users/User/tf-pose-estimationActionRecognit...  \n",
       "1     C:/Users/User/tf-pose-estimationActionRecognit...  \n",
       "2     C:/Users/User/tf-pose-estimationActionRecognit...  \n",
       "3     C:/Users/User/tf-pose-estimationActionRecognit...  \n",
       "4     C:/Users/User/tf-pose-estimationActionRecognit...  \n",
       "...                                                 ...  \n",
       "1169  C:/Users/User/tf-pose-estimationActionRecognit...  \n",
       "1170  C:/Users/User/tf-pose-estimationActionRecognit...  \n",
       "1171  C:/Users/User/tf-pose-estimationActionRecognit...  \n",
       "1172  C:/Users/User/tf-pose-estimationActionRecognit...  \n",
       "1173  C:/Users/User/tf-pose-estimationActionRecognit...  \n",
       "\n",
       "[1174 rows x 39 columns]"
      ]
     },
     "execution_count": 5,
     "metadata": {},
     "output_type": "execute_result"
    }
   ],
   "source": [
    "df = pd.read_csv('TestDataSet.csv', sep=';')\n",
    "df"
   ]
  },
  {
   "cell_type": "code",
   "execution_count": 6,
   "metadata": {},
   "outputs": [
    {
     "data": {
      "text/plain": [
       "0       39\n",
       "1       39\n",
       "2       39\n",
       "3       39\n",
       "4       39\n",
       "        ..\n",
       "1169    39\n",
       "1170    39\n",
       "1171    39\n",
       "1172    39\n",
       "1173    39\n",
       "Length: 1174, dtype: int64"
      ]
     },
     "execution_count": 6,
     "metadata": {},
     "output_type": "execute_result"
    }
   ],
   "source": [
    "df.notna().sum(axis=1)"
   ]
  },
  {
   "cell_type": "code",
   "execution_count": 7,
   "metadata": {},
   "outputs": [
    {
     "data": {
      "text/html": [
       "<div>\n",
       "<style scoped>\n",
       "    .dataframe tbody tr th:only-of-type {\n",
       "        vertical-align: middle;\n",
       "    }\n",
       "\n",
       "    .dataframe tbody tr th {\n",
       "        vertical-align: top;\n",
       "    }\n",
       "\n",
       "    .dataframe thead th {\n",
       "        text-align: right;\n",
       "    }\n",
       "</style>\n",
       "<table border=\"1\" class=\"dataframe\">\n",
       "  <thead>\n",
       "    <tr style=\"text-align: right;\">\n",
       "      <th></th>\n",
       "      <th>Nose_x0</th>\n",
       "      <th>Nose_y0</th>\n",
       "      <th>Neck_x1</th>\n",
       "      <th>Neck_y1</th>\n",
       "      <th>RShoulder_x2</th>\n",
       "      <th>RShoulder_y2</th>\n",
       "      <th>Relbow_x3</th>\n",
       "      <th>RElbow_y3</th>\n",
       "      <th>RWrist_x4</th>\n",
       "      <th>RWrist_y4</th>\n",
       "      <th>...</th>\n",
       "      <th>LAnkle_x13</th>\n",
       "      <th>LAnkle_y13</th>\n",
       "      <th>REye_x14</th>\n",
       "      <th>REye_y14</th>\n",
       "      <th>LEye_x15</th>\n",
       "      <th>LEye_y15</th>\n",
       "      <th>REar_x16</th>\n",
       "      <th>REar_y16</th>\n",
       "      <th>LEar_x17</th>\n",
       "      <th>LEar_y17</th>\n",
       "    </tr>\n",
       "    <tr>\n",
       "      <th>id</th>\n",
       "      <th></th>\n",
       "      <th></th>\n",
       "      <th></th>\n",
       "      <th></th>\n",
       "      <th></th>\n",
       "      <th></th>\n",
       "      <th></th>\n",
       "      <th></th>\n",
       "      <th></th>\n",
       "      <th></th>\n",
       "      <th></th>\n",
       "      <th></th>\n",
       "      <th></th>\n",
       "      <th></th>\n",
       "      <th></th>\n",
       "      <th></th>\n",
       "      <th></th>\n",
       "      <th></th>\n",
       "      <th></th>\n",
       "      <th></th>\n",
       "      <th></th>\n",
       "    </tr>\n",
       "  </thead>\n",
       "  <tbody>\n",
       "    <tr>\n",
       "      <th>1267</th>\n",
       "      <td>162</td>\n",
       "      <td>60</td>\n",
       "      <td>166</td>\n",
       "      <td>67</td>\n",
       "      <td>163</td>\n",
       "      <td>66</td>\n",
       "      <td>162</td>\n",
       "      <td>74</td>\n",
       "      <td>158</td>\n",
       "      <td>78</td>\n",
       "      <td>...</td>\n",
       "      <td>169</td>\n",
       "      <td>111</td>\n",
       "      <td>161</td>\n",
       "      <td>59</td>\n",
       "      <td>163</td>\n",
       "      <td>59</td>\n",
       "      <td>0</td>\n",
       "      <td>0</td>\n",
       "      <td>165</td>\n",
       "      <td>60</td>\n",
       "    </tr>\n",
       "    <tr>\n",
       "      <th>1268</th>\n",
       "      <td>159</td>\n",
       "      <td>61</td>\n",
       "      <td>163</td>\n",
       "      <td>67</td>\n",
       "      <td>162</td>\n",
       "      <td>67</td>\n",
       "      <td>160</td>\n",
       "      <td>74</td>\n",
       "      <td>156</td>\n",
       "      <td>78</td>\n",
       "      <td>...</td>\n",
       "      <td>170</td>\n",
       "      <td>111</td>\n",
       "      <td>159</td>\n",
       "      <td>59</td>\n",
       "      <td>160</td>\n",
       "      <td>59</td>\n",
       "      <td>0</td>\n",
       "      <td>0</td>\n",
       "      <td>163</td>\n",
       "      <td>60</td>\n",
       "    </tr>\n",
       "    <tr>\n",
       "      <th>1269</th>\n",
       "      <td>158</td>\n",
       "      <td>61</td>\n",
       "      <td>163</td>\n",
       "      <td>67</td>\n",
       "      <td>160</td>\n",
       "      <td>67</td>\n",
       "      <td>159</td>\n",
       "      <td>75</td>\n",
       "      <td>153</td>\n",
       "      <td>79</td>\n",
       "      <td>...</td>\n",
       "      <td>171</td>\n",
       "      <td>111</td>\n",
       "      <td>158</td>\n",
       "      <td>59</td>\n",
       "      <td>158</td>\n",
       "      <td>59</td>\n",
       "      <td>0</td>\n",
       "      <td>0</td>\n",
       "      <td>161</td>\n",
       "      <td>60</td>\n",
       "    </tr>\n",
       "    <tr>\n",
       "      <th>1270</th>\n",
       "      <td>156</td>\n",
       "      <td>61</td>\n",
       "      <td>160</td>\n",
       "      <td>67</td>\n",
       "      <td>159</td>\n",
       "      <td>67</td>\n",
       "      <td>157</td>\n",
       "      <td>75</td>\n",
       "      <td>153</td>\n",
       "      <td>79</td>\n",
       "      <td>...</td>\n",
       "      <td>170</td>\n",
       "      <td>111</td>\n",
       "      <td>156</td>\n",
       "      <td>59</td>\n",
       "      <td>157</td>\n",
       "      <td>59</td>\n",
       "      <td>0</td>\n",
       "      <td>0</td>\n",
       "      <td>159</td>\n",
       "      <td>60</td>\n",
       "    </tr>\n",
       "    <tr>\n",
       "      <th>1271</th>\n",
       "      <td>154</td>\n",
       "      <td>60</td>\n",
       "      <td>158</td>\n",
       "      <td>67</td>\n",
       "      <td>157</td>\n",
       "      <td>67</td>\n",
       "      <td>155</td>\n",
       "      <td>75</td>\n",
       "      <td>150</td>\n",
       "      <td>79</td>\n",
       "      <td>...</td>\n",
       "      <td>169</td>\n",
       "      <td>111</td>\n",
       "      <td>154</td>\n",
       "      <td>59</td>\n",
       "      <td>155</td>\n",
       "      <td>59</td>\n",
       "      <td>0</td>\n",
       "      <td>0</td>\n",
       "      <td>158</td>\n",
       "      <td>60</td>\n",
       "    </tr>\n",
       "    <tr>\n",
       "      <th>...</th>\n",
       "      <td>...</td>\n",
       "      <td>...</td>\n",
       "      <td>...</td>\n",
       "      <td>...</td>\n",
       "      <td>...</td>\n",
       "      <td>...</td>\n",
       "      <td>...</td>\n",
       "      <td>...</td>\n",
       "      <td>...</td>\n",
       "      <td>...</td>\n",
       "      <td>...</td>\n",
       "      <td>...</td>\n",
       "      <td>...</td>\n",
       "      <td>...</td>\n",
       "      <td>...</td>\n",
       "      <td>...</td>\n",
       "      <td>...</td>\n",
       "      <td>...</td>\n",
       "      <td>...</td>\n",
       "      <td>...</td>\n",
       "      <td>...</td>\n",
       "    </tr>\n",
       "    <tr>\n",
       "      <th>2436</th>\n",
       "      <td>31</td>\n",
       "      <td>48</td>\n",
       "      <td>38</td>\n",
       "      <td>52</td>\n",
       "      <td>38</td>\n",
       "      <td>52</td>\n",
       "      <td>0</td>\n",
       "      <td>0</td>\n",
       "      <td>0</td>\n",
       "      <td>0</td>\n",
       "      <td>...</td>\n",
       "      <td>43</td>\n",
       "      <td>106</td>\n",
       "      <td>0</td>\n",
       "      <td>0</td>\n",
       "      <td>32</td>\n",
       "      <td>46</td>\n",
       "      <td>0</td>\n",
       "      <td>0</td>\n",
       "      <td>34</td>\n",
       "      <td>46</td>\n",
       "    </tr>\n",
       "    <tr>\n",
       "      <th>2437</th>\n",
       "      <td>27</td>\n",
       "      <td>49</td>\n",
       "      <td>33</td>\n",
       "      <td>54</td>\n",
       "      <td>36</td>\n",
       "      <td>54</td>\n",
       "      <td>0</td>\n",
       "      <td>0</td>\n",
       "      <td>0</td>\n",
       "      <td>0</td>\n",
       "      <td>...</td>\n",
       "      <td>38</td>\n",
       "      <td>108</td>\n",
       "      <td>0</td>\n",
       "      <td>0</td>\n",
       "      <td>28</td>\n",
       "      <td>48</td>\n",
       "      <td>0</td>\n",
       "      <td>0</td>\n",
       "      <td>30</td>\n",
       "      <td>48</td>\n",
       "    </tr>\n",
       "    <tr>\n",
       "      <th>2438</th>\n",
       "      <td>23</td>\n",
       "      <td>52</td>\n",
       "      <td>30</td>\n",
       "      <td>56</td>\n",
       "      <td>32</td>\n",
       "      <td>56</td>\n",
       "      <td>0</td>\n",
       "      <td>0</td>\n",
       "      <td>0</td>\n",
       "      <td>0</td>\n",
       "      <td>...</td>\n",
       "      <td>34</td>\n",
       "      <td>109</td>\n",
       "      <td>0</td>\n",
       "      <td>0</td>\n",
       "      <td>24</td>\n",
       "      <td>50</td>\n",
       "      <td>0</td>\n",
       "      <td>0</td>\n",
       "      <td>27</td>\n",
       "      <td>50</td>\n",
       "    </tr>\n",
       "    <tr>\n",
       "      <th>2439</th>\n",
       "      <td>20</td>\n",
       "      <td>52</td>\n",
       "      <td>27</td>\n",
       "      <td>58</td>\n",
       "      <td>27</td>\n",
       "      <td>57</td>\n",
       "      <td>23</td>\n",
       "      <td>69</td>\n",
       "      <td>0</td>\n",
       "      <td>0</td>\n",
       "      <td>...</td>\n",
       "      <td>30</td>\n",
       "      <td>109</td>\n",
       "      <td>0</td>\n",
       "      <td>0</td>\n",
       "      <td>21</td>\n",
       "      <td>51</td>\n",
       "      <td>0</td>\n",
       "      <td>0</td>\n",
       "      <td>24</td>\n",
       "      <td>52</td>\n",
       "    </tr>\n",
       "    <tr>\n",
       "      <th>2440</th>\n",
       "      <td>18</td>\n",
       "      <td>54</td>\n",
       "      <td>24</td>\n",
       "      <td>59</td>\n",
       "      <td>26</td>\n",
       "      <td>59</td>\n",
       "      <td>28</td>\n",
       "      <td>71</td>\n",
       "      <td>31</td>\n",
       "      <td>81</td>\n",
       "      <td>...</td>\n",
       "      <td>31</td>\n",
       "      <td>108</td>\n",
       "      <td>18</td>\n",
       "      <td>52</td>\n",
       "      <td>18</td>\n",
       "      <td>52</td>\n",
       "      <td>0</td>\n",
       "      <td>0</td>\n",
       "      <td>22</td>\n",
       "      <td>53</td>\n",
       "    </tr>\n",
       "  </tbody>\n",
       "</table>\n",
       "<p>1174 rows × 36 columns</p>\n",
       "</div>"
      ],
      "text/plain": [
       "      Nose_x0  Nose_y0  Neck_x1  Neck_y1  RShoulder_x2  RShoulder_y2  \\\n",
       "id                                                                     \n",
       "1267      162       60      166       67           163            66   \n",
       "1268      159       61      163       67           162            67   \n",
       "1269      158       61      163       67           160            67   \n",
       "1270      156       61      160       67           159            67   \n",
       "1271      154       60      158       67           157            67   \n",
       "...       ...      ...      ...      ...           ...           ...   \n",
       "2436       31       48       38       52            38            52   \n",
       "2437       27       49       33       54            36            54   \n",
       "2438       23       52       30       56            32            56   \n",
       "2439       20       52       27       58            27            57   \n",
       "2440       18       54       24       59            26            59   \n",
       "\n",
       "      Relbow_x3  RElbow_y3  RWrist_x4  RWrist_y4  ...  LAnkle_x13  LAnkle_y13  \\\n",
       "id                                                ...                           \n",
       "1267        162         74        158         78  ...         169         111   \n",
       "1268        160         74        156         78  ...         170         111   \n",
       "1269        159         75        153         79  ...         171         111   \n",
       "1270        157         75        153         79  ...         170         111   \n",
       "1271        155         75        150         79  ...         169         111   \n",
       "...         ...        ...        ...        ...  ...         ...         ...   \n",
       "2436          0          0          0          0  ...          43         106   \n",
       "2437          0          0          0          0  ...          38         108   \n",
       "2438          0          0          0          0  ...          34         109   \n",
       "2439         23         69          0          0  ...          30         109   \n",
       "2440         28         71         31         81  ...          31         108   \n",
       "\n",
       "      REye_x14  REye_y14  LEye_x15  LEye_y15  REar_x16  REar_y16  LEar_x17  \\\n",
       "id                                                                           \n",
       "1267       161        59       163        59         0         0       165   \n",
       "1268       159        59       160        59         0         0       163   \n",
       "1269       158        59       158        59         0         0       161   \n",
       "1270       156        59       157        59         0         0       159   \n",
       "1271       154        59       155        59         0         0       158   \n",
       "...        ...       ...       ...       ...       ...       ...       ...   \n",
       "2436         0         0        32        46         0         0        34   \n",
       "2437         0         0        28        48         0         0        30   \n",
       "2438         0         0        24        50         0         0        27   \n",
       "2439         0         0        21        51         0         0        24   \n",
       "2440        18        52        18        52         0         0        22   \n",
       "\n",
       "      LEar_y17  \n",
       "id              \n",
       "1267        60  \n",
       "1268        60  \n",
       "1269        60  \n",
       "1270        60  \n",
       "1271        60  \n",
       "...        ...  \n",
       "2436        46  \n",
       "2437        48  \n",
       "2438        50  \n",
       "2439        52  \n",
       "2440        53  \n",
       "\n",
       "[1174 rows x 36 columns]"
      ]
     },
     "execution_count": 7,
     "metadata": {},
     "output_type": "execute_result"
    }
   ],
   "source": [
    "df.index = df.id\n",
    "df = df.drop(['id', 'action', 'video_src'], axis = 1)\n",
    "df"
   ]
  },
  {
   "cell_type": "raw",
   "metadata": {},
   "source": [
    "for i in df.columns:\n",
    "    df[i].fillna((df[i].mean()), inplace=True)"
   ]
  },
  {
   "cell_type": "code",
   "execution_count": 8,
   "metadata": {},
   "outputs": [
    {
     "name": "stderr",
     "output_type": "stream",
     "text": [
      "C:\\Users\\Zhastay\\AppData\\Local\\Programs\\Python\\Python36\\lib\\site-packages\\ipykernel_launcher.py:1: FutureWarning: Method .as_matrix will be removed in a future version. Use .values instead.\n",
      "  \"\"\"Entry point for launching an IPython kernel.\n"
     ]
    },
    {
     "data": {
      "text/plain": [
       "array([[162,  60, 166, ...,   0, 165,  60],\n",
       "       [159,  61, 163, ...,   0, 163,  60],\n",
       "       [158,  61, 163, ...,   0, 161,  60],\n",
       "       ...,\n",
       "       [ 23,  52,  30, ...,   0,  27,  50],\n",
       "       [ 20,  52,  27, ...,   0,  24,  52],\n",
       "       [ 18,  54,  24, ...,   0,  22,  53]], dtype=int64)"
      ]
     },
     "execution_count": 8,
     "metadata": {},
     "output_type": "execute_result"
    }
   ],
   "source": [
    "A = df.fillna(0).as_matrix()\n",
    "A"
   ]
  },
  {
   "cell_type": "code",
   "execution_count": 9,
   "metadata": {},
   "outputs": [],
   "source": [
    "def difference(arr):\n",
    "    result = []\n",
    "    for i in range(len(arr)-1):\n",
    "        result.append(abs(A[i] - A[i+1]))\n",
    "    return np.array(result)"
   ]
  },
  {
   "cell_type": "code",
   "execution_count": 12,
   "metadata": {},
   "outputs": [],
   "source": [
    "df.to_csv('main_1.csv', index=False)"
   ]
  },
  {
   "cell_type": "code",
   "execution_count": 11,
   "metadata": {},
   "outputs": [],
   "source": [
    "pd.DataFrame(difference(A), columns = df.columns).to_csv('difference_1.csv', index=False)"
   ]
  },
  {
   "cell_type": "markdown",
   "metadata": {},
   "source": [
    "# SVD k decreasing"
   ]
  },
  {
   "cell_type": "code",
   "execution_count": 10,
   "metadata": {},
   "outputs": [],
   "source": [
    "user_ratings_mean = np.mean(A, axis = 1)\n",
    "A_demeaned = A - user_ratings_mean.reshape(-1, 1)"
   ]
  },
  {
   "cell_type": "code",
   "execution_count": 43,
   "metadata": {},
   "outputs": [],
   "source": [
    "k = 10\n",
    "n = 0"
   ]
  },
  {
   "cell_type": "code",
   "execution_count": 44,
   "metadata": {},
   "outputs": [
    {
     "name": "stdout",
     "output_type": "stream",
     "text": [
      "(1174, 10) (10,) (10, 36)\n"
     ]
    }
   ],
   "source": [
    "from scipy.sparse.linalg import svds\n",
    "u, s, v = svds(A_demeaned, k=k)\n",
    "print(u.shape, s.shape, v.shape)"
   ]
  },
  {
   "cell_type": "code",
   "execution_count": 46,
   "metadata": {},
   "outputs": [
    {
     "data": {
      "text/plain": [
       "array([ 652.67044129,  672.59094395,  824.69430385, 1000.03587674,\n",
       "       1167.99898019, 1416.40532997, 1613.54360883, 2721.38000241,\n",
       "       3139.71713904, 5096.38113318])"
      ]
     },
     "execution_count": 46,
     "metadata": {},
     "output_type": "execute_result"
    }
   ],
   "source": [
    "s"
   ]
  },
  {
   "cell_type": "code",
   "execution_count": 47,
   "metadata": {},
   "outputs": [
    {
     "data": {
      "text/plain": [
       "(1174, 36)"
      ]
     },
     "execution_count": 47,
     "metadata": {},
     "output_type": "execute_result"
    }
   ],
   "source": [
    "_A = np.dot(np.dot(u[:,:], np.diag(s[:])), v[:,:]) + user_ratings_mean.reshape(-1, 1)[:]\n",
    "_A.shape"
   ]
  },
  {
   "cell_type": "raw",
   "metadata": {},
   "source": [
    "_index = 0\n",
    "corr, _ = pearsonr(A[_index], _A[_index])\n",
    "print('Pearsons correlation: %.3f' % corr)\n",
    "pd.DataFrame([[df.columns[i], A[_index][i], _A[_index][i]] for i in range(A.shape[1])],columns=['type', 'NonSVD','SVD'])"
   ]
  },
  {
   "cell_type": "code",
   "execution_count": 48,
   "metadata": {},
   "outputs": [
    {
     "data": {
      "image/png": "[encoded data removed]",
      "text/plain": [
       "<Figure size 432x288 with 1 Axes>"
      ]
     },
     "metadata": {
      "needs_background": "light"
     },
     "output_type": "display_data"
    },
    {
     "data": {
      "image/png": "[encoded data removed]",
      "text/plain": [
       "<Figure size 432x288 with 1 Axes>"
      ]
     },
     "metadata": {
      "needs_background": "light"
     },
     "output_type": "display_data"
    }
   ],
   "source": [
    "plt.imshow(A[:50], cmap='hot', interpolation='nearest')\n",
    "plt.show()\n",
    "plt.imshow(_A[:50], cmap='hot', interpolation='nearest')\n",
    "plt.show()"
   ]
  },
  {
   "cell_type": "code",
   "execution_count": 49,
   "metadata": {},
   "outputs": [
    {
     "data": {
      "image/png": "[encoded data removed]",
      "text/plain": [
       "<Figure size 432x288 with 1 Axes>"
      ]
     },
     "metadata": {
      "needs_background": "light"
     },
     "output_type": "display_data"
    }
   ],
   "source": [
    "for j in range(A.shape[0]//50):\n",
    "    axray = pd.DataFrame(np.array([[A[j][i], A[j][i+1]] for i in range(0, A.shape[1], 2)]), columns=['x', 'y'])\n",
    "    #_axray = pd.DataFrame(np.array([[_A[j][i], _A[j][i+1]] for i in range(0, A.shape[1], 2)]), columns=['x', 'y'])\n",
    "    plt.plot(axray['x'], axray['y'], 'o')\n",
    "    #plt.plot(_axray['x'], _axray['y'], 'o')\n",
    "plt.show()"
   ]
  },
  {
   "cell_type": "code",
   "execution_count": 50,
   "metadata": {},
   "outputs": [
    {
     "data": {
      "image/png": "[encoded data removed]",
      "text/plain": [
       "<Figure size 432x288 with 1 Axes>"
      ]
     },
     "metadata": {
      "needs_background": "light"
     },
     "output_type": "display_data"
    }
   ],
   "source": [
    "for j in range(_A.shape[0]//50):\n",
    "    #axray = pd.DataFrame(np.array([[A[j][i], A[j][i+1]] for i in range(0, A.shape[1], 2)]), columns=['x', 'y'])\n",
    "    _axray = pd.DataFrame(np.array([[_A[j][i], _A[j][i+1]] for i in range(0, _A.shape[1], 2)]), columns=['x', 'y'])\n",
    "    #plt.plot(axray['x'], axray['y'], 'o')\n",
    "    plt.plot(_axray['x'], _axray['y'], 'o')\n",
    "plt.show()"
   ]
  },
  {
   "cell_type": "code",
   "execution_count": 51,
   "metadata": {
    "scrolled": false
   },
   "outputs": [
    {
     "data": {
      "image/png": "[encoded data removed]",
      "text/plain": [
       "<Figure size 432x288 with 1 Axes>"
      ]
     },
     "metadata": {
      "needs_background": "light"
     },
     "output_type": "display_data"
    },
    {
     "data": {
      "image/png": "[encoded data removed]",
      "text/plain": [
       "<Figure size 432x288 with 1 Axes>"
      ]
     },
     "metadata": {
      "needs_background": "light"
     },
     "output_type": "display_data"
    },
    {
     "data": {
      "image/png": "[encoded data removed]",
      "text/plain": [
       "<Figure size 432x288 with 1 Axes>"
      ]
     },
     "metadata": {
      "needs_background": "light"
     },
     "output_type": "display_data"
    },
    {
     "data": {
      "image/png": "[encoded data removed]",
      "text/plain": [
       "<Figure size 432x288 with 1 Axes>"
      ]
     },
     "metadata": {
      "needs_background": "light"
     },
     "output_type": "display_data"
    },
    {
     "data": {
      "image/png": "[encoded data removed]",
      "text/plain": [
       "<Figure size 432x288 with 1 Axes>"
      ]
     },
     "metadata": {
      "needs_background": "light"
     },
     "output_type": "display_data"
    }
   ],
   "source": [
    "for j in range(5):\n",
    "    axray = pd.DataFrame(np.array([[A[j][i], A[j][i+1]] for i in range(0, A.shape[1], 2)]), columns=['x', 'y'])\n",
    "    _axray = pd.DataFrame(np.array([[_A[j][i], _A[j][i+1]] for i in range(0, A.shape[1], 2)]), columns=['x', 'y'])\n",
    "    plt.plot(axray['x'], axray['y'], 'bo')\n",
    "    plt.plot(_axray['x'], _axray['y'], 'ro')\n",
    "    plt.show()"
   ]
  },
  {
   "cell_type": "code",
   "execution_count": 52,
   "metadata": {},
   "outputs": [
    {
     "name": "stdout",
     "output_type": "stream",
     "text": [
      "Pearsons correlation: 0.986\n"
     ]
    }
   ],
   "source": [
    "correl = np.mean([pearsonr(A[i], _A[i])[0] for i in range(_A.shape[0])])\n",
    "print('Pearsons correlation: %.3f' % correl)"
   ]
  },
  {
   "cell_type": "code",
   "execution_count": null,
   "metadata": {},
   "outputs": [],
   "source": []
  }
 ],
 "metadata": {
  "kernelspec": {
   "display_name": "Python 3",
   "language": "python",
   "name": "python3"
  },
  "language_info": {
   "codemirror_mode": {
    "name": "ipython",
    "version": 3
   },
   "file_extension": ".py",
   "mimetype": "text/x-python",
   "name": "python",
   "nbconvert_exporter": "python",
   "pygments_lexer": "ipython3",
   "version": "3.6.5"
  }
 },
 "nbformat": 4,
 "nbformat_minor": 4
}
