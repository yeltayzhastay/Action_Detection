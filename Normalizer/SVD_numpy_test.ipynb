{
 "cells": [
  {
   "cell_type": "code",
   "execution_count": 2,
   "metadata": {},
   "outputs": [],
   "source": [
    "import numpy as np\n",
    "float_formatter = lambda x: \"%.2f\" % x\n",
    "np.set_printoptions(formatter={'float_kind':float_formatter})"
   ]
  },
  {
   "cell_type": "code",
   "execution_count": 99,
   "metadata": {},
   "outputs": [
    {
     "data": {
      "text/plain": [
       "array([[5.00, 2.00, 2.00, 3.00],\n",
       "       [1.00, 1.00, 4.00, 1.00],\n",
       "       [5.00, 2.00, 2.00, 3.00],\n",
       "       [6.00, 3.00, 6.00, 4.00],\n",
       "       [2.00, 3.00, 2.00, 5.00]])"
      ]
     },
     "execution_count": 99,
     "metadata": {},
     "output_type": "execute_result"
    }
   ],
   "source": [
    "A = np.zeros((5,4))\n",
    "A[0] = [5, 2, 2, 3]\n",
    "A[1] = [1, 1, 4, 1]\n",
    "A[2] = [5, 2, 2, 3]\n",
    "A[3] = [6, 3, 6, 4]\n",
    "A[4] = [2, 3, 2, 5]\n",
    "A"
   ]
  },
  {
   "cell_type": "code",
   "execution_count": 101,
   "metadata": {},
   "outputs": [
    {
     "name": "stdout",
     "output_type": "stream",
     "text": [
      "(5, 5) (4,) (4, 4)\n"
     ]
    }
   ],
   "source": [
    "u1, s1, v1 = np.linalg.svd(A)\n",
    "print(u1.shape, s1.shape, v1.shape)"
   ]
  },
  {
   "cell_type": "code",
   "execution_count": 115,
   "metadata": {},
   "outputs": [
    {
     "data": {
      "text/plain": [
       "array([[5, 3, 1, 0]])"
      ]
     },
     "execution_count": 115,
     "metadata": {},
     "output_type": "execute_result"
    }
   ],
   "source": [
    "B = np.array([[5,3,1,0]])\n",
    "B"
   ]
  },
  {
   "cell_type": "code",
   "execution_count": 116,
   "metadata": {},
   "outputs": [
    {
     "name": "stdout",
     "output_type": "stream",
     "text": [
      "(1, 1) (1,) (4, 4)\n"
     ]
    }
   ],
   "source": [
    "u2, s2, v2 = np.linalg.svd(B)\n",
    "print(u2.shape, s2.shape, v2.shape)"
   ]
  },
  {
   "cell_type": "code",
   "execution_count": 123,
   "metadata": {},
   "outputs": [],
   "source": [
    "k = 2\n",
    "n = 0"
   ]
  },
  {
   "cell_type": "code",
   "execution_count": 124,
   "metadata": {},
   "outputs": [
    {
     "data": {
      "text/plain": [
       "array([[4.19, 2.34, 2.16, 3.63],\n",
       "       [1.53, 0.78, 3.90, 0.59],\n",
       "       [4.19, 2.34, 2.16, 3.63],\n",
       "       [5.72, 3.12, 6.05, 4.22],\n",
       "       [3.93, 2.20, 1.63, 3.50]])"
      ]
     },
     "execution_count": 124,
     "metadata": {},
     "output_type": "execute_result"
    }
   ],
   "source": [
    "u1[:, :k] @ np.diag(s1[:k]) @v1[:k, :]"
   ]
  },
  {
   "cell_type": "code",
   "execution_count": 106,
   "metadata": {},
   "outputs": [
    {
     "data": {
      "text/plain": [
       "array([[1.51, 0.78, 3.26, 0.72],\n",
       "       [6.63, 3.63, 6.63, 4.99],\n",
       "       [11.76, 6.47, 10.00, 9.26],\n",
       "       [16.89, 9.31, 13.38, 13.53],\n",
       "       [22.02, 12.15, 16.75, 17.80]])"
      ]
     },
     "execution_count": 106,
     "metadata": {},
     "output_type": "execute_result"
    }
   ],
   "source": [
    "strich = u2[:, :k] @ np.diag(s2[:k]) @v1[:k, :]\n",
    "strich"
   ]
  },
  {
   "cell_type": "code",
   "execution_count": 92,
   "metadata": {},
   "outputs": [
    {
     "data": {
      "text/plain": [
       "array([[0.00, 1.00, 2.00, 3.00, 4.00, 5.00, 6.00, 7.00],\n",
       "       [8.00, 9.00, 10.00, 11.00, -0.00, 13.00, 14.00, 15.00],\n",
       "       [16.00, 0.00, 18.00, 19.00, 20.00, 21.00, 22.00, -0.00],\n",
       "       [24.00, 25.00, 26.00, 27.00, 28.00, 29.00, 30.00, 31.00],\n",
       "       [32.00, 33.00, 34.00, 35.00, 36.00, 37.00, 38.00, 39.00],\n",
       "       [40.00, 41.00, 42.00, 0.00, 44.00, 45.00, 46.00, 47.00],\n",
       "       [48.00, 49.00, 50.00, 51.00, 52.00, 53.00, 54.00, 55.00],\n",
       "       [56.00, 57.00, 58.00, 59.00, 60.00, 61.00, 62.00, 63.00],\n",
       "       [64.00, 65.00, 66.00, 67.00, 68.00, 69.00, 70.00, 71.00],\n",
       "       [72.00, 73.00, 74.00, 75.00, 76.00, 77.00, 78.00, 79.00]])"
      ]
     },
     "execution_count": 92,
     "metadata": {},
     "output_type": "execute_result"
    }
   ],
   "source": [
    "np.linalg.svd(strich)[0][:, :k] @ np.diag(s2[:k]) @v2[:k, :]"
   ]
  },
  {
   "cell_type": "code",
   "execution_count": 95,
   "metadata": {},
   "outputs": [
    {
     "data": {
      "image/png": "[encoded data removed]",
      "text/plain": [
       "<Figure size 432x288 with 1 Axes>"
      ]
     },
     "metadata": {
      "needs_background": "light"
     },
     "output_type": "display_data"
    },
    {
     "data": {
      "image/png": "[encoded data removed]",
      "text/plain": [
       "<Figure size 432x288 with 1 Axes>"
      ]
     },
     "metadata": {
      "needs_background": "light"
     },
     "output_type": "display_data"
    }
   ],
   "source": [
    "import matplotlib.pyplot as plt\n",
    "plt.imshow(A, cmap='hot', interpolation='nearest')\n",
    "plt.show()\n",
    "plt.imshow(strich, cmap='hot', interpolation='nearest')\n",
    "plt.show()"
   ]
  },
  {
   "cell_type": "code",
   "execution_count": 96,
   "metadata": {},
   "outputs": [
    {
     "ename": "NameError",
     "evalue": "name 'u' is not defined",
     "output_type": "error",
     "traceback": [
      "\u001b[1;31m---------------------------------------------------------------------------\u001b[0m",
      "\u001b[1;31mNameError\u001b[0m                                 Traceback (most recent call last)",
      "\u001b[1;32m<ipython-input-96-c27c6b2c1eab>\u001b[0m in \u001b[0;36m<module>\u001b[1;34m\u001b[0m\n\u001b[1;32m----> 1\u001b[1;33m \u001b[0m_A\u001b[0m \u001b[1;33m=\u001b[0m \u001b[1;33m(\u001b[0m\u001b[0mu\u001b[0m\u001b[1;33m[\u001b[0m\u001b[1;33m:\u001b[0m\u001b[1;33m,\u001b[0m \u001b[0mn\u001b[0m\u001b[1;33m:\u001b[0m\u001b[0mk\u001b[0m\u001b[1;33m]\u001b[0m \u001b[1;33m@\u001b[0m \u001b[0mnp\u001b[0m\u001b[1;33m.\u001b[0m\u001b[0mdiag\u001b[0m\u001b[1;33m(\u001b[0m\u001b[0ms\u001b[0m\u001b[1;33m[\u001b[0m\u001b[0mn\u001b[0m\u001b[1;33m:\u001b[0m\u001b[0mk\u001b[0m\u001b[1;33m]\u001b[0m\u001b[1;33m)\u001b[0m \u001b[1;33m@\u001b[0m\u001b[0mv\u001b[0m\u001b[1;33m[\u001b[0m\u001b[0mn\u001b[0m\u001b[1;33m:\u001b[0m\u001b[0mk\u001b[0m\u001b[1;33m,\u001b[0m \u001b[1;33m:\u001b[0m\u001b[1;33m]\u001b[0m\u001b[1;33m)\u001b[0m\u001b[1;33m\u001b[0m\u001b[0m\n\u001b[0m\u001b[0;32m      2\u001b[0m \u001b[0m_A\u001b[0m\u001b[1;33m.\u001b[0m\u001b[0mshape\u001b[0m\u001b[1;33m\u001b[0m\u001b[0m\n",
      "\u001b[1;31mNameError\u001b[0m: name 'u' is not defined"
     ]
    }
   ],
   "source": [
    "_A = (u[:, n:k] @ np.diag(s[n:k]) @v[n:k, :])\n",
    "_A.shape"
   ]
  },
  {
   "cell_type": "code",
   "execution_count": 319,
   "metadata": {},
   "outputs": [
    {
     "data": {
      "text/plain": [
       "array([[-0.00, 1.00, 2.00, 3.00, 4.00, 5.00, 6.00, 7.00],\n",
       "       [8.00, 9.00, 10.00, 11.00, 12.00, 13.00, 14.00, 15.00],\n",
       "       [16.00, 17.00, 18.00, 19.00, 20.00, 21.00, 22.00, 23.00],\n",
       "       [24.00, 25.00, 26.00, 27.00, 28.00, 29.00, 30.00, 31.00],\n",
       "       [32.00, 33.00, 34.00, 35.00, 36.00, 37.00, 38.00, 39.00],\n",
       "       [40.00, 41.00, 42.00, 43.00, 44.00, 45.00, 46.00, 47.00],\n",
       "       [48.00, 49.00, 50.00, 51.00, 52.00, 53.00, 54.00, 55.00],\n",
       "       [56.00, 57.00, 58.00, 59.00, 60.00, 61.00, 62.00, 63.00],\n",
       "       [64.00, 65.00, 66.00, 67.00, 68.00, 69.00, 70.00, 71.00],\n",
       "       [72.00, 73.00, 74.00, 75.00, 76.00, 77.00, 78.00, 79.00],\n",
       "       [80.00, 81.00, 82.00, 83.00, 84.00, 85.00, 86.00, 87.00],\n",
       "       [88.00, 89.00, 90.00, 91.00, 92.00, 93.00, 94.00, 95.00],\n",
       "       [96.00, 97.00, 98.00, 99.00, 100.00, 101.00, 102.00, 103.00],\n",
       "       [104.00, 105.00, 106.00, 107.00, 108.00, 109.00, 110.00, 111.00],\n",
       "       [112.00, 113.00, 114.00, 115.00, 116.00, 117.00, 118.00, 119.00],\n",
       "       [120.00, 121.00, 122.00, 123.00, 124.00, 125.00, 126.00, 127.00],\n",
       "       [128.00, 129.00, 130.00, 131.00, 132.00, 133.00, 134.00, 135.00],\n",
       "       [136.00, 137.00, 138.00, 139.00, 140.00, 141.00, 142.00, 143.00],\n",
       "       [144.00, 145.00, 146.00, 147.00, 148.00, 149.00, 150.00, 151.00],\n",
       "       [152.00, 153.00, 154.00, 155.00, 156.00, 157.00, 158.00, 159.00],\n",
       "       [160.00, 161.00, 162.00, 163.00, 164.00, 165.00, 166.00, 167.00],\n",
       "       [168.00, 169.00, 170.00, 171.00, 172.00, 173.00, 174.00, 175.00],\n",
       "       [176.00, 177.00, 178.00, 179.00, 180.00, 181.00, 182.00, 183.00],\n",
       "       [184.00, 185.00, 186.00, 187.00, 188.00, 189.00, 190.00, 191.00],\n",
       "       [192.00, 193.00, 194.00, 195.00, 196.00, 197.00, 198.00, 199.00],\n",
       "       [200.00, 201.00, 202.00, 203.00, 204.00, 205.00, 206.00, 207.00],\n",
       "       [208.00, 209.00, 210.00, 211.00, 212.00, 213.00, 214.00, 215.00],\n",
       "       [216.00, 217.00, 218.00, 219.00, 220.00, 221.00, 222.00, 223.00],\n",
       "       [224.00, 225.00, 226.00, 227.00, 228.00, 229.00, 230.00, 231.00],\n",
       "       [232.00, 233.00, 234.00, 235.00, 236.00, 237.00, 238.00, 239.00],\n",
       "       [240.00, 241.00, 242.00, 243.00, 244.00, 245.00, 246.00, 247.00],\n",
       "       [248.00, 249.00, 250.00, 251.00, 252.00, 253.00, 254.00, 255.00],\n",
       "       [256.00, 257.00, 258.00, 259.00, 260.00, 261.00, 262.00, 263.00],\n",
       "       [264.00, 265.00, 266.00, 267.00, 268.00, 269.00, 270.00, 271.00],\n",
       "       [272.00, 273.00, 274.00, 275.00, 276.00, 277.00, 278.00, 279.00],\n",
       "       [280.00, 281.00, 282.00, 283.00, 284.00, 285.00, 286.00, 287.00],\n",
       "       [288.00, 289.00, 290.00, 291.00, 292.00, 293.00, 294.00, 295.00],\n",
       "       [296.00, 297.00, 298.00, 299.00, 300.00, 301.00, 302.00, 303.00],\n",
       "       [304.00, 305.00, 306.00, 307.00, 308.00, 309.00, 310.00, 311.00],\n",
       "       [312.00, 313.00, 314.00, 315.00, 316.00, 317.00, 318.00, 319.00],\n",
       "       [320.00, 321.00, 322.00, 323.00, 324.00, 325.00, 326.00, 327.00],\n",
       "       [328.00, 329.00, 330.00, 331.00, 332.00, 333.00, 334.00, 335.00],\n",
       "       [336.00, 337.00, 338.00, 339.00, 340.00, 341.00, 342.00, 343.00],\n",
       "       [344.00, 345.00, 346.00, 347.00, 348.00, 349.00, 350.00, 351.00],\n",
       "       [352.00, 353.00, 354.00, 355.00, 356.00, 357.00, 358.00, 359.00],\n",
       "       [360.00, 361.00, 362.00, 363.00, 364.00, 365.00, 366.00, 367.00],\n",
       "       [368.00, 369.00, 370.00, 371.00, 372.00, 373.00, 374.00, 375.00],\n",
       "       [376.00, 377.00, 378.00, 379.00, 380.00, 381.00, 382.00, 383.00],\n",
       "       [384.00, 385.00, 386.00, 387.00, 388.00, 389.00, 390.00, 391.00],\n",
       "       [392.00, 393.00, 394.00, 395.00, 396.00, 397.00, 398.00, 399.00]])"
      ]
     },
     "execution_count": 319,
     "metadata": {},
     "output_type": "execute_result"
    }
   ],
   "source": [
    "_A"
   ]
  },
  {
   "cell_type": "code",
   "execution_count": 151,
   "metadata": {},
   "outputs": [
    {
     "data": {
      "text/plain": [
       "array([[31.82, 0.00, 0.00],\n",
       "       [0.00, 1.63, 0.00],\n",
       "       [0.00, 0.00, 0.00]])"
      ]
     },
     "execution_count": 151,
     "metadata": {},
     "output_type": "execute_result"
    }
   ],
   "source": [
    "S = np.diag(s)\n",
    "S"
   ]
  },
  {
   "cell_type": "code",
   "execution_count": 152,
   "metadata": {},
   "outputs": [
    {
     "data": {
      "text/plain": [
       "array([[31.82, 0.00, 0.00],\n",
       "       [0.00, 1.63, 0.00],\n",
       "       [0.00, 0.00, 0.00],\n",
       "       [0.00, 0.00, 0.00],\n",
       "       [0.00, 0.00, 0.00],\n",
       "       [0.00, 0.00, 0.00]])"
      ]
     },
     "execution_count": 152,
     "metadata": {},
     "output_type": "execute_result"
    }
   ],
   "source": [
    "S = np.vstack([S, np.zeros((3, 3)) ])\n",
    "S"
   ]
  },
  {
   "cell_type": "code",
   "execution_count": 153,
   "metadata": {},
   "outputs": [
    {
     "data": {
      "text/plain": [
       "array([[-0.06, 0.77, -0.24, -0.47, -0.35, 0.00],\n",
       "       [-0.22, 0.50, 0.14, 0.19, 0.80, 0.00],\n",
       "       [-0.38, 0.23, -0.10, 0.79, -0.42, 0.00],\n",
       "       [-0.55, -0.04, 0.77, -0.26, -0.19, 0.00],\n",
       "       [-0.71, -0.31, -0.56, -0.25, 0.15, 0.00],\n",
       "       [0.00, 0.00, 0.00, 0.00, 0.00, 0.00]])"
      ]
     },
     "execution_count": 153,
     "metadata": {},
     "output_type": "execute_result"
    }
   ],
   "source": [
    "_u = np.zeros((6, 6))\n",
    "_u[:5, :5] = u[:5, :5]\n",
    "_u"
   ]
  },
  {
   "cell_type": "code",
   "execution_count": 154,
   "metadata": {},
   "outputs": [
    {
     "data": {
      "text/plain": [
       "array([[-0.00, 1.00, 2.00],\n",
       "       [3.00, 4.00, 5.00],\n",
       "       [6.00, 7.00, 8.00],\n",
       "       [9.00, 10.00, 11.00],\n",
       "       [12.00, 13.00, 14.00],\n",
       "       [0.00, 0.00, 0.00]])"
      ]
     },
     "execution_count": 154,
     "metadata": {},
     "output_type": "execute_result"
    }
   ],
   "source": [
    "np.dot(_u, np.dot(S,v))"
   ]
  },
  {
   "cell_type": "code",
   "execution_count": 156,
   "metadata": {},
   "outputs": [
    {
     "data": {
      "text/plain": [
       "False"
      ]
     },
     "execution_count": 156,
     "metadata": {},
     "output_type": "execute_result"
    }
   ],
   "source": [
    "np.allclose(B, np.dot(_u, np.dot(S,v)))"
   ]
  },
  {
   "cell_type": "code",
   "execution_count": null,
   "metadata": {},
   "outputs": [],
   "source": []
  },
  {
   "cell_type": "code",
   "execution_count": null,
   "metadata": {},
   "outputs": [],
   "source": []
  }
 ],
 "metadata": {
  "kernelspec": {
   "display_name": "Python 3",
   "language": "python",
   "name": "python3"
  },
  "language_info": {
   "codemirror_mode": {
    "name": "ipython",
    "version": 3
   },
   "file_extension": ".py",
   "mimetype": "text/x-python",
   "name": "python",
   "nbconvert_exporter": "python",
   "pygments_lexer": "ipython3",
   "version": "3.6.5"
  }
 },
 "nbformat": 4,
 "nbformat_minor": 4
}
